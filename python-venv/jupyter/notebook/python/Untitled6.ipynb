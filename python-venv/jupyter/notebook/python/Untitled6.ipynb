{
 "cells": [
  {
   "cell_type": "markdown",
   "metadata": {},
   "source": [
    "### https://miyukimedaka.com/2019/09/01/blog-0100-machine-learning-regression/\n",
    "### KNeighborsRegressor(N近傍法)：Regressuion(回帰)"
   ]
  },
  {
   "cell_type": "code",
   "execution_count": 1,
   "metadata": {},
   "outputs": [],
   "source": [
    "#  0)CRIM：   人口当たりの犯罪発生率\n",
    "#  1)ZN：     25,000平方フィート以上の住宅区画の割合\n",
    "#  2)INDUS：  小売業以外の商業が占める面積の割合\n",
    "#  3)CHAS：   チャールズ川からの距離の指数（１：近い、０：遠い）\n",
    "#  4)NOX：    NOXの濃度\n",
    "#  5)RM：     住宅の平均部屋数\n",
    "#  6)AGE：    1940年以前に建てられた物件の割合\n",
    "#  7)DIS：    ５つのボストン市の雇用施設からの距離\n",
    "#  8)RAD：    環状高速道路へのアクセスしやすさ\n",
    "#  9)TAX：    10,000USドル当たりの不動産税率の統計\n",
    "# 10)PTRATIO：町別の児童と教師の比率\n",
    "# 11)B：      町別の黒人の比率\n",
    "# 12)LSTAT：  給与の低い職業に従事する人の割合（％）"
   ]
  },
  {
   "cell_type": "code",
   "execution_count": 2,
   "metadata": {},
   "outputs": [
    {
     "name": "stdout",
     "output_type": "stream",
     "text": [
      "price in case of 5%: [24.]\n",
      "price in case of 10%: [19.3]\n",
      "price in case of 15%: [19.1]\n",
      "price in case of 20%: [8.5]\n",
      "price in case of 25%: [12.]\n",
      "price in case of 30%: [6.3]\n",
      "price in case of 35%: [13.8]\n"
     ]
    }
   ],
   "source": [
    "from sklearn.neighbors import KNeighborsRegressor\n",
    "from sklearn.model_selection import train_test_split\n",
    "from sklearn.datasets import load_boston\n",
    "boston = load_boston()\n",
    "\n",
    "n_data = boston.data\n",
    "n_target = boston.target\n",
    "\n",
    "x = list(n_data[:, 12].reshape(-1, 1))  # 12)LSTAT: 給与の低い職業に従事する人の割合（％）\n",
    "y = n_target\n",
    "train_x, test_x, train_y, test_y = train_test_split(x, y, random_state=0)\n",
    "\n",
    "reg = KNeighborsRegressor(n_neighbors=1)\n",
    "reg.fit(train_x, train_y)\n",
    "\n",
    "for i in [5, 10, 15, 20, 25, 30, 35]:\n",
    "    print(\"price in case of {}%:\".format(i), reg.predict([[i]]))"
   ]
  }
 ],
 "metadata": {
  "kernelspec": {
   "display_name": "Python 3",
   "language": "python",
   "name": "python3"
  },
  "language_info": {
   "codemirror_mode": {
    "name": "ipython",
    "version": 3
   },
   "file_extension": ".py",
   "mimetype": "text/x-python",
   "name": "python",
   "nbconvert_exporter": "python",
   "pygments_lexer": "ipython3",
   "version": "3.6.9"
  }
 },
 "nbformat": 4,
 "nbformat_minor": 4
}
