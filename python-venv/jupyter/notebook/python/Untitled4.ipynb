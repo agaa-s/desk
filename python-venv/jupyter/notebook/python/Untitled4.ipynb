{
 "cells": [
  {
   "cell_type": "markdown",
   "metadata": {},
   "source": [
    "### https://pycarnival.com/fit_predict_scikitlearn/\n",
    "### KNeighborsClassifier(K最近傍法)：Classification(分類)"
   ]
  },
  {
   "cell_type": "code",
   "execution_count": 1,
   "metadata": {},
   "outputs": [],
   "source": [
    "from sklearn.neighbors import KNeighborsClassifier\n",
    "from sklearn import svm\n",
    "from sklearn.metrics import accuracy_score"
   ]
  },
  {
   "cell_type": "markdown",
   "metadata": {},
   "source": [
    "#### <span style=\"color:navy;\">●共通</span>"
   ]
  },
  {
   "cell_type": "code",
   "execution_count": 2,
   "metadata": {},
   "outputs": [],
   "source": [
    "# 学習用のデータと結果を準備する\n",
    "train_features = [[0, 0], [1, 0], [0, 1], [1, 1]]\n",
    "train_target https://miyukimedaka.com/2019/09/01/blog-0100-machine-learning-regression/= [0, 1, 1, 0]\n",
    "\n",
    "# テスト用のデータ\n",
    "test_features = [[0, 0], [1, 0], [0, 1], [1, 1]]\n",
    "test_target = [0, 1, 1, 0]"
   ]
  },
  {
   "cell_type": "markdown",
   "metadata": {},
   "source": [
    "#### <span style=\"color:navy\">●K最近傍法</span>"
   ]
  },
  {
   "cell_type": "code",
   "execution_count": 3,
   "metadata": {},
   "outputs": [
    {
     "name": "stdout",
     "output_type": "stream",
     "text": [
      "予測対象： [[0, 0], [1, 0], [0, 1], [1, 1]] , 予測結果→ [0 1 1 0]\n",
      "正解率＝ 1.0\n"
     ]
    }
   ],
   "source": [
    "# アルゴリズムを指定。K最近傍法を採用\n",
    "clf = KNeighborsClassifier(n_neighbors=1)\n",
    "\n",
    "# 学習用のデータと結果を学習する,fit()\n",
    "clf.fit(train_features, train_target)\n",
    "\n",
    "# テストデータによる予測,predict()\n",
    "pred_target = clf.predict(test_features)\n",
    "\n",
    "# テスト結果を評価する,accuracy_score()\n",
    "print(\"予測対象：\", test_features, \", 予測結果→\", pred_target)\n",
    "print(\"正解率＝\", accuracy_score([0, 1, 1, 0], pred_target))"
   ]
  },
  {
   "cell_type": "markdown",
   "metadata": {},
   "source": [
    "#### ※Untitled5.ipynbの評価の仕方を真似てみた"
   ]
  },
  {
   "cell_type": "code",
   "execution_count": 4,
   "metadata": {},
   "outputs": [
    {
     "data": {
      "text/plain": [
       "1.0"
      ]
     },
     "execution_count": 4,
     "metadata": {},
     "output_type": "execute_result"
    }
   ],
   "source": [
    "#clf.score([0, 1, 1, 0], pred_target)  # <- Error になる\n",
    "clf.score(test_features, test_target) # 内部で accuracy_score() を使用しているようだ"
   ]
  },
  {
   "cell_type": "markdown",
   "metadata": {},
   "source": [
    "#### <span style=\"color:navy\">●SVM"
   ]
  },
  {
   "cell_type": "code",
   "execution_count": 5,
   "metadata": {},
   "outputs": [
    {
     "name": "stdout",
     "output_type": "stream",
     "text": [
      "予測対象： [[0, 0], [1, 0], [0, 1], [1, 1]] , 予測結果→ [0 1 1 0]\n",
      "正解率＝ 1.0\n"
     ]
    }
   ],
   "source": [
    "# アルゴリズムを指定。SVM\n",
    "clf = svm.SVC()\n",
    "\n",
    "# 学習用のデータと結果を学習する,fit()\n",
    "clf.fit(train_features, train_target)\n",
    "\n",
    "# テストデータによる予測,predict()\n",
    "pred_target = clf.predict(test_features)\n",
    "\n",
    "# テスト結果を評価する,accuracy_score()\n",
    "print(\"予測対象：\", test_features, \", 予測結果→\", pred_target)\n",
    "print(\"正解率＝\", accuracy_score([0, 1, 1, 0], pred_target))"
   ]
  },
  {
   "cell_type": "markdown",
   "metadata": {},
   "source": [
    "#### ※Untitled5.ipynbの評価の仕方を真似てみた"
   ]
  },
  {
   "cell_type": "code",
   "execution_count": 6,
   "metadata": {},
   "outputs": [
    {
     "data": {
      "text/plain": [
       "1.0"
      ]
     },
     "execution_count": 6,
     "metadata": {},
     "output_type": "execute_result"
    }
   ],
   "source": [
    "#clf.score([0, 1, 1, 0], pred_target)  # <- Error になる\n",
    "clf.score(test_features, test_target) # 内部で accuracy_score() を使用しているようだ"
   ]
  }
 ],
 "metadata": {
  "kernelspec": {
   "display_name": "Python 3",
   "language": "python",
   "name": "python3"
  },
  "language_info": {
   "codemirror_mode": {
    "name": "ipython",
    "version": 3
   },
   "file_extension": ".py",
   "mimetype": "text/x-python",
   "name": "python",
   "nbconvert_exporter": "python",
   "pygments_lexer": "ipython3",
   "version": "3.6.9"
  }
 },
 "nbformat": 4,
 "nbformat_minor": 4
}
